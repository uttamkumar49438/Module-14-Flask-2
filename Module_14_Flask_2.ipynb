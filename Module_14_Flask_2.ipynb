{
  "nbformat": 4,
  "nbformat_minor": 0,
  "metadata": {
    "colab": {
      "provenance": []
    },
    "kernelspec": {
      "name": "python3",
      "display_name": "Python 3"
    },
    "language_info": {
      "name": "python"
    }
  },
  "cells": [
    {
      "cell_type": "markdown",
      "source": [
        "Q1. Explain GET and POST methods."
      ],
      "metadata": {
        "id": "6-ZOaXzA6wLh"
      }
    },
    {
      "cell_type": "markdown",
      "source": [
        " the GET method is used for requesting data from a server, with data transmitted in the URL, while the POST method is used for submitting data to a server, with data transmitted in the request body."
      ],
      "metadata": {
        "id": "zrteDegW61kW"
      }
    },
    {
      "cell_type": "markdown",
      "source": [
        "Q2. Why is request used in Flask?"
      ],
      "metadata": {
        "id": "Lq-9hJLV63S5"
      }
    },
    {
      "cell_type": "markdown",
      "source": [
        " request object in Flask, developers can access and process incoming request data, perform input validation, handle form submissions, and build dynamic responses tailored to the client's request."
      ],
      "metadata": {
        "id": "Y1tbz1g_68H-"
      }
    },
    {
      "cell_type": "markdown",
      "source": [
        "Q3. Why is redirect() used in Flask?"
      ],
      "metadata": {
        "id": "OAfM_KR37Fk7"
      }
    },
    {
      "cell_type": "markdown",
      "source": [
        "redirect() function is used to redirect the client's web browser to a different URL. It is a built-in function provided by Flask for performing URL redirection within a Flask application."
      ],
      "metadata": {
        "id": "LIrcFRMvCAI-"
      }
    },
    {
      "cell_type": "markdown",
      "source": [
        "Q4. What are templates in Flask? Why is the render_template() function used?"
      ],
      "metadata": {
        "id": "4KoMk6iWCEOm"
      }
    },
    {
      "cell_type": "markdown",
      "source": [
        "templates are files containing static HTML content mixed with dynamic elements written in template languages such as Jinja2. Templates are used to generate dynamic HTML content that can be served to clients based on data provided by the Flask application.\n",
        "\n",
        "render_template() function is used to render templates and generate dynamic HTML content within a Flask view function. It takes the name of the template file (without the file extension) as an argument, along with any additional context data to be passed to the template."
      ],
      "metadata": {
        "id": "sLy36espCHdZ"
      }
    },
    {
      "cell_type": "markdown",
      "source": [
        "Q5. Create a simple API. Use Postman to test it. Attach the screenshot of the output in the Jupyter Notebook.\n"
      ],
      "metadata": {
        "id": "3__dk4OMCRAh"
      }
    },
    {
      "cell_type": "code",
      "source": [
        "from flask import Flask, jsonify\n",
        "\n",
        "app = Flask(__name__)\n",
        "\n",
        "@app.route('/api/hello')\n",
        "def hello():\n",
        "    return jsonify({'message': 'Hello, world!'})\n",
        "\n",
        "if __name__ == '__main__':\n",
        "    app.run(debug=True)"
      ],
      "metadata": {
        "id": "N2WSRxw3Cb8R"
      },
      "execution_count": null,
      "outputs": []
    }
  ]
}